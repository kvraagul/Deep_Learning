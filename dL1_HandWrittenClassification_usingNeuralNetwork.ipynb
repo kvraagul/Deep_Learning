{
  "nbformat": 4,
  "nbformat_minor": 0,
  "metadata": {
    "colab": {
      "name": "dL1_HandWrittenClassification_usingNeuralNetwork.ipynb",
      "provenance": [],
      "toc_visible": true,
      "authorship_tag": "ABX9TyN4vvTAsFFCQ4pBF+STdZm1",
      "include_colab_link": true
    },
    "kernelspec": {
      "name": "python3",
      "display_name": "Python 3"
    },
    "language_info": {
      "name": "python"
    }
  },
  "cells": [
    {
      "cell_type": "markdown",
      "metadata": {
        "id": "view-in-github",
        "colab_type": "text"
      },
      "source": [
        "<a href=\"https://colab.research.google.com/github/kvraagul/Deep_Learning/blob/main/dL1_HandWrittenClassification_usingNeuralNetwork.ipynb\" target=\"_parent\"><img src=\"https://colab.research.google.com/assets/colab-badge.svg\" alt=\"Open In Colab\"/></a>"
      ]
    },
    {
      "cell_type": "code",
      "metadata": {
        "id": "wM05BHII_q9x"
      },
      "source": [
        "import tensorflow as tf\n",
        "from tensorflow import keras\n",
        "import numpy as np"
      ],
      "execution_count": 1,
      "outputs": []
    },
    {
      "cell_type": "code",
      "metadata": {
        "id": "BfkZGyBNAZpk"
      },
      "source": [
        "import matplotlib.pyplot as plt\n",
        "%matplotlib inline"
      ],
      "execution_count": 2,
      "outputs": []
    },
    {
      "cell_type": "markdown",
      "metadata": {
        "id": "NpRQxoEVskiY"
      },
      "source": [
        "# Hand Written Classification using Neural Network\n",
        "\n"
      ]
    },
    {
      "cell_type": "markdown",
      "metadata": {
        "id": "Xk5YryowC3vU"
      },
      "source": [
        "![Plot-of-a-Subset-of-Images-from-the-MNIST-Dataset.png](data:image/png;base64,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)"
      ]
    },
    {
      "cell_type": "markdown",
      "metadata": {
        "id": "bHzciqg-BBIH"
      },
      "source": [
        "## Loading datasets from keras"
      ]
    },
    {
      "cell_type": "code",
      "metadata": {
        "colab": {
          "base_uri": "https://localhost:8080/"
        },
        "id": "BNUjgYBxAiLx",
        "outputId": "6afa651b-df6a-486b-ab21-c2d01f6bd0e5"
      },
      "source": [
        "(X_train,y_train),(X_test,y_test) = keras.datasets.mnist.load_data()"
      ],
      "execution_count": 3,
      "outputs": [
        {
          "output_type": "stream",
          "text": [
            "Downloading data from https://storage.googleapis.com/tensorflow/tf-keras-datasets/mnist.npz\n",
            "11493376/11490434 [==============================] - 0s 0us/step\n"
          ],
          "name": "stdout"
        }
      ]
    },
    {
      "cell_type": "code",
      "metadata": {
        "colab": {
          "base_uri": "https://localhost:8080/"
        },
        "id": "l27HFt63BGl4",
        "outputId": "7784d399-72d4-4fd7-8af5-d29baca02bff"
      },
      "source": [
        "print(\"X_train contains\",len(X_train),\"values\")\n",
        "print(\"y_train contains\",len(y_train),\"values\")\n",
        "print(\"X_test contains\",len(X_test),\"values\")\n",
        "print(\"y_test contains\",len(y_test),\"values\")"
      ],
      "execution_count": 4,
      "outputs": [
        {
          "output_type": "stream",
          "text": [
            "X_train contains 60000 values\n",
            "y_train contains 60000 values\n",
            "X_test contains 10000 values\n",
            "y_test contains 10000 values\n"
          ],
          "name": "stdout"
        }
      ]
    },
    {
      "cell_type": "markdown",
      "metadata": {
        "id": "FQ1Pjv2sByUm"
      },
      "source": [
        "**Each values contains 28*28 pixels**"
      ]
    },
    {
      "cell_type": "code",
      "metadata": {
        "colab": {
          "base_uri": "https://localhost:8080/"
        },
        "id": "vE-PF3jDBGo7",
        "outputId": "f8d7946e-e538-4e15-e11c-116947c4377b"
      },
      "source": [
        "X_train[10].shape"
      ],
      "execution_count": 5,
      "outputs": [
        {
          "output_type": "execute_result",
          "data": {
            "text/plain": [
              "(28, 28)"
            ]
          },
          "metadata": {
            "tags": []
          },
          "execution_count": 5
        }
      ]
    },
    {
      "cell_type": "markdown",
      "metadata": {
        "id": "Bx7dkrEWCH_6"
      },
      "source": [
        "**Weights mention for index value[10] in 2D array**\n",
        "\n",
        "**pixel values are integers that range from 0 (black) to 255 (white)**"
      ]
    },
    {
      "cell_type": "code",
      "metadata": {
        "colab": {
          "base_uri": "https://localhost:8080/"
        },
        "id": "SEZApizyBGr1",
        "outputId": "26f1975f-8bcc-4a50-e244-1aa5aee43943"
      },
      "source": [
        "X_train[10]"
      ],
      "execution_count": 6,
      "outputs": [
        {
          "output_type": "execute_result",
          "data": {
            "text/plain": [
              "array([[  0,   0,   0,   0,   0,   0,   0,   0,   0,   0,   0,   0,   0,\n",
              "          0,   0,   0,   0,   0,   0,   0,   0,   0,   0,   0,   0,   0,\n",
              "          0,   0],\n",
              "       [  0,   0,   0,   0,   0,   0,   0,   0,   0,   0,   0,   0,   0,\n",
              "          0,   0,   0,   0,   0,   0,   0,   0,   0,   0,   0,   0,   0,\n",
              "          0,   0],\n",
              "       [  0,   0,   0,   0,   0,   0,   0,   0,   0,   0,   0,   0,   0,\n",
              "          0,   0,   0,   0,   0,   0,   0,   0,   0,   0,   0,   0,   0,\n",
              "          0,   0],\n",
              "       [  0,   0,   0,   0,   0,   0,   0,   0,   0,   0,   0,   0,   0,\n",
              "          0,   0,   0,   0,   0,   0,   0,   0,   0,   0,   0,   0,   0,\n",
              "          0,   0],\n",
              "       [  0,   0,   0,   0,   0,   0,   0,   0,   0,   0,   0,  42, 118,\n",
              "        219, 166, 118, 118,   6,   0,   0,   0,   0,   0,   0,   0,   0,\n",
              "          0,   0],\n",
              "       [  0,   0,   0,   0,   0,   0,   0,   0,   0,   0, 103, 242, 254,\n",
              "        254, 254, 254, 254,  66,   0,   0,   0,   0,   0,   0,   0,   0,\n",
              "          0,   0],\n",
              "       [  0,   0,   0,   0,   0,   0,   0,   0,   0,   0,  18, 232, 254,\n",
              "        254, 254, 254, 254, 238,  70,   0,   0,   0,   0,   0,   0,   0,\n",
              "          0,   0],\n",
              "       [  0,   0,   0,   0,   0,   0,   0,   0,   0,   0,   0, 104, 244,\n",
              "        254, 224, 254, 254, 254, 141,   0,   0,   0,   0,   0,   0,   0,\n",
              "          0,   0],\n",
              "       [  0,   0,   0,   0,   0,   0,   0,   0,   0,   0,   0,   0, 207,\n",
              "        254, 210, 254, 254, 254,  34,   0,   0,   0,   0,   0,   0,   0,\n",
              "          0,   0],\n",
              "       [  0,   0,   0,   0,   0,   0,   0,   0,   0,   0,   0,   0,  84,\n",
              "        206, 254, 254, 254, 254,  41,   0,   0,   0,   0,   0,   0,   0,\n",
              "          0,   0],\n",
              "       [  0,   0,   0,   0,   0,   0,   0,   0,   0,   0,   0,   0,   0,\n",
              "         24, 209, 254, 254, 254, 171,   0,   0,   0,   0,   0,   0,   0,\n",
              "          0,   0],\n",
              "       [  0,   0,   0,   0,   0,   0,   0,   0,   0,   0,   0,   0,  91,\n",
              "        137, 253, 254, 254, 254, 112,   0,   0,   0,   0,   0,   0,   0,\n",
              "          0,   0],\n",
              "       [  0,   0,   0,   0,   0,   0,   0,   0,   0,   0,  40, 214, 250,\n",
              "        254, 254, 254, 254, 254,  34,   0,   0,   0,   0,   0,   0,   0,\n",
              "          0,   0],\n",
              "       [  0,   0,   0,   0,   0,   0,   0,   0,   0,   0,  81, 247, 254,\n",
              "        254, 254, 254, 254, 254, 146,   0,   0,   0,   0,   0,   0,   0,\n",
              "          0,   0],\n",
              "       [  0,   0,   0,   0,   0,   0,   0,   0,   0,   0,   0, 110, 246,\n",
              "        254, 254, 254, 254, 254, 171,   0,   0,   0,   0,   0,   0,   0,\n",
              "          0,   0],\n",
              "       [  0,   0,   0,   0,   0,   0,   0,   0,   0,   0,   0,   0,  73,\n",
              "         89,  89,  93, 240, 254, 171,   0,   0,   0,   0,   0,   0,   0,\n",
              "          0,   0],\n",
              "       [  0,   0,   0,   0,   0,   0,   0,   0,   0,   0,   0,   0,   0,\n",
              "          0,   0,   1, 128, 254, 219,  31,   0,   0,   0,   0,   0,   0,\n",
              "          0,   0],\n",
              "       [  0,   0,   0,   0,   0,   0,   0,   0,   0,   0,   0,   0,   0,\n",
              "          0,   0,   7, 254, 254, 214,  28,   0,   0,   0,   0,   0,   0,\n",
              "          0,   0],\n",
              "       [  0,   0,   0,   0,   0,   0,   0,   0,   0,   0,   0,   0,   0,\n",
              "          0,   0, 138, 254, 254, 116,   0,   0,   0,   0,   0,   0,   0,\n",
              "          0,   0],\n",
              "       [  0,   0,   0,   0,   0,   0,  19, 177,  90,   0,   0,   0,   0,\n",
              "          0,  25, 240, 254, 254,  34,   0,   0,   0,   0,   0,   0,   0,\n",
              "          0,   0],\n",
              "       [  0,   0,   0,   0,   0,   0, 164, 254, 215,  63,  36,   0,  51,\n",
              "         89, 206, 254, 254, 139,   8,   0,   0,   0,   0,   0,   0,   0,\n",
              "          0,   0],\n",
              "       [  0,   0,   0,   0,   0,   0,  57, 197, 254, 254, 222, 180, 241,\n",
              "        254, 254, 253, 213,  11,   0,   0,   0,   0,   0,   0,   0,   0,\n",
              "          0,   0],\n",
              "       [  0,   0,   0,   0,   0,   0,   0, 140, 105, 254, 254, 254, 254,\n",
              "        254, 254, 236,   0,   0,   0,   0,   0,   0,   0,   0,   0,   0,\n",
              "          0,   0],\n",
              "       [  0,   0,   0,   0,   0,   0,   0,   0,   7, 117, 117, 165, 254,\n",
              "        254, 239,  50,   0,   0,   0,   0,   0,   0,   0,   0,   0,   0,\n",
              "          0,   0],\n",
              "       [  0,   0,   0,   0,   0,   0,   0,   0,   0,   0,   0,   0,   0,\n",
              "          0,   0,   0,   0,   0,   0,   0,   0,   0,   0,   0,   0,   0,\n",
              "          0,   0],\n",
              "       [  0,   0,   0,   0,   0,   0,   0,   0,   0,   0,   0,   0,   0,\n",
              "          0,   0,   0,   0,   0,   0,   0,   0,   0,   0,   0,   0,   0,\n",
              "          0,   0],\n",
              "       [  0,   0,   0,   0,   0,   0,   0,   0,   0,   0,   0,   0,   0,\n",
              "          0,   0,   0,   0,   0,   0,   0,   0,   0,   0,   0,   0,   0,\n",
              "          0,   0],\n",
              "       [  0,   0,   0,   0,   0,   0,   0,   0,   0,   0,   0,   0,   0,\n",
              "          0,   0,   0,   0,   0,   0,   0,   0,   0,   0,   0,   0,   0,\n",
              "          0,   0]], dtype=uint8)"
            ]
          },
          "metadata": {
            "tags": []
          },
          "execution_count": 6
        }
      ]
    },
    {
      "cell_type": "code",
      "metadata": {
        "colab": {
          "base_uri": "https://localhost:8080/",
          "height": 292
        },
        "id": "U3OJr8MXBGuq",
        "outputId": "f4f6ef28-e3f7-4f11-b289-ad0d7a61e07d"
      },
      "source": [
        "plt.matshow(X_train[10])"
      ],
      "execution_count": 7,
      "outputs": [
        {
          "output_type": "execute_result",
          "data": {
            "text/plain": [
              "<matplotlib.image.AxesImage at 0x7f98d48ca910>"
            ]
          },
          "metadata": {
            "tags": []
          },
          "execution_count": 7
        },
        {
          "output_type": "display_data",
          "data": {
            "image/png": "[encoded data removed]",
            "text/plain": [
              "<Figure size 288x288 with 1 Axes>"
            ]
          },
          "metadata": {
            "tags": [],
            "needs_background": "light"
          }
        }
      ]
    },
    {
      "cell_type": "code",
      "metadata": {
        "colab": {
          "base_uri": "https://localhost:8080/"
        },
        "id": "PK2CTDCZDTeG",
        "outputId": "17e604fa-ceab-4a58-b0e9-b707671143bb"
      },
      "source": [
        "y_train[10]"
      ],
      "execution_count": 8,
      "outputs": [
        {
          "output_type": "execute_result",
          "data": {
            "text/plain": [
              "3"
            ]
          },
          "metadata": {
            "tags": []
          },
          "execution_count": 8
        }
      ]
    },
    {
      "cell_type": "code",
      "metadata": {
        "colab": {
          "base_uri": "https://localhost:8080/",
          "height": 292
        },
        "id": "lLArNCw2DaXa",
        "outputId": "800cbefa-bbf6-45ee-8a35-c1226990e5af"
      },
      "source": [
        "plt.matshow(X_train[100])"
      ],
      "execution_count": 9,
      "outputs": [
        {
          "output_type": "execute_result",
          "data": {
            "text/plain": [
              "<matplotlib.image.AxesImage at 0x7f98dc03abd0>"
            ]
          },
          "metadata": {
            "tags": []
          },
          "execution_count": 9
        },
        {
          "output_type": "display_data",
          "data": {
            "image/png": "[encoded data removed]",
            "text/plain": [
              "<Figure size 288x288 with 1 Axes>"
            ]
          },
          "metadata": {
            "tags": [],
            "needs_background": "light"
          }
        }
      ]
    },
    {
      "cell_type": "code",
      "metadata": {
        "colab": {
          "base_uri": "https://localhost:8080/"
        },
        "id": "DCsw2ri5Dfnb",
        "outputId": "f5364514-73c0-41c1-cca0-fb2a001a1b54"
      },
      "source": [
        "y_train[100]"
      ],
      "execution_count": 10,
      "outputs": [
        {
          "output_type": "execute_result",
          "data": {
            "text/plain": [
              "5"
            ]
          },
          "metadata": {
            "tags": []
          },
          "execution_count": 10
        }
      ]
    },
    {
      "cell_type": "markdown",
      "metadata": {
        "id": "M2FRMbbxqzVI"
      },
      "source": [
        "## Scaling\n",
        "\n",
        "\n",
        "**Values are scaled between 0-1 to get high accuracy**"
      ]
    },
    {
      "cell_type": "code",
      "metadata": {
        "id": "Dw4Ymo6Sq133"
      },
      "source": [
        "X_train = X_train / 255\n",
        "X_test = X_test / 255"
      ],
      "execution_count": 20,
      "outputs": []
    },
    {
      "cell_type": "code",
      "metadata": {
        "colab": {
          "base_uri": "https://localhost:8080/"
        },
        "id": "w_n1dOEfrG2k",
        "outputId": "49fcc744-4d78-4dfc-b447-caff81c996e0"
      },
      "source": [
        "X_train[10]"
      ],
      "execution_count": 28,
      "outputs": [
        {
          "output_type": "execute_result",
          "data": {
            "text/plain": [
              "array([[0.        , 0.        , 0.        , 0.        , 0.        ,\n",
              "        0.        , 0.        , 0.        , 0.        , 0.        ,\n",
              "        0.        , 0.        , 0.        , 0.        , 0.        ,\n",
              "        0.        , 0.        , 0.        , 0.        , 0.        ,\n",
              "        0.        , 0.        , 0.        , 0.        , 0.        ,\n",
              "        0.        , 0.        , 0.        ],\n",
              "       [0.        , 0.        , 0.        , 0.        , 0.        ,\n",
              "        0.        , 0.        , 0.        , 0.        , 0.        ,\n",
              "        0.        , 0.        , 0.        , 0.        , 0.        ,\n",
              "        0.        , 0.        , 0.        , 0.        , 0.        ,\n",
              "        0.        , 0.        , 0.        , 0.        , 0.        ,\n",
              "        0.        , 0.        , 0.        ],\n",
              "       [0.        , 0.        , 0.        , 0.        , 0.        ,\n",
              "        0.        , 0.        , 0.        , 0.        , 0.        ,\n",
              "        0.        , 0.        , 0.        , 0.        , 0.        ,\n",
              "        0.        , 0.        , 0.        , 0.        , 0.        ,\n",
              "        0.        , 0.        , 0.        , 0.        , 0.        ,\n",
              "        0.        , 0.        , 0.        ],\n",
              "       [0.        , 0.        , 0.        , 0.        , 0.        ,\n",
              "        0.        , 0.        , 0.        , 0.        , 0.        ,\n",
              "        0.        , 0.        , 0.        , 0.        , 0.        ,\n",
              "        0.        , 0.        , 0.        , 0.        , 0.        ,\n",
              "        0.        , 0.        , 0.        , 0.        , 0.        ,\n",
              "        0.        , 0.        , 0.        ],\n",
              "       [0.        , 0.        , 0.        , 0.        , 0.        ,\n",
              "        0.        , 0.        , 0.        , 0.        , 0.        ,\n",
              "        0.        , 0.16470588, 0.4627451 , 0.85882353, 0.65098039,\n",
              "        0.4627451 , 0.4627451 , 0.02352941, 0.        , 0.        ,\n",
              "        0.        , 0.        , 0.        , 0.        , 0.        ,\n",
              "        0.        , 0.        , 0.        ],\n",
              "       [0.        , 0.        , 0.        , 0.        , 0.        ,\n",
              "        0.        , 0.        , 0.        , 0.        , 0.        ,\n",
              "        0.40392157, 0.94901961, 0.99607843, 0.99607843, 0.99607843,\n",
              "        0.99607843, 0.99607843, 0.25882353, 0.        , 0.        ,\n",
              "        0.        , 0.        , 0.        , 0.        , 0.        ,\n",
              "        0.        , 0.        , 0.        ],\n",
              "       [0.        , 0.        , 0.        , 0.        , 0.        ,\n",
              "        0.        , 0.        , 0.        , 0.        , 0.        ,\n",
              "        0.07058824, 0.90980392, 0.99607843, 0.99607843, 0.99607843,\n",
              "        0.99607843, 0.99607843, 0.93333333, 0.2745098 , 0.        ,\n",
              "        0.        , 0.        , 0.        , 0.        , 0.        ,\n",
              "        0.        , 0.        , 0.        ],\n",
              "       [0.        , 0.        , 0.        , 0.        , 0.        ,\n",
              "        0.        , 0.        , 0.        , 0.        , 0.        ,\n",
              "        0.        , 0.40784314, 0.95686275, 0.99607843, 0.87843137,\n",
              "        0.99607843, 0.99607843, 0.99607843, 0.55294118, 0.        ,\n",
              "        0.        , 0.        , 0.        , 0.        , 0.        ,\n",
              "        0.        , 0.        , 0.        ],\n",
              "       [0.        , 0.        , 0.        , 0.        , 0.        ,\n",
              "        0.        , 0.        , 0.        , 0.        , 0.        ,\n",
              "        0.        , 0.        , 0.81176471, 0.99607843, 0.82352941,\n",
              "        0.99607843, 0.99607843, 0.99607843, 0.13333333, 0.        ,\n",
              "        0.        , 0.        , 0.        , 0.        , 0.        ,\n",
              "        0.        , 0.        , 0.        ],\n",
              "       [0.        , 0.        , 0.        , 0.        , 0.        ,\n",
              "        0.        , 0.        , 0.        , 0.        , 0.        ,\n",
              "        0.        , 0.        , 0.32941176, 0.80784314, 0.99607843,\n",
              "        0.99607843, 0.99607843, 0.99607843, 0.16078431, 0.        ,\n",
              "        0.        , 0.        , 0.        , 0.        , 0.        ,\n",
              "        0.        , 0.        , 0.        ],\n",
              "       [0.        , 0.        , 0.        , 0.        , 0.        ,\n",
              "        0.        , 0.        , 0.        , 0.        , 0.        ,\n",
              "        0.        , 0.        , 0.        , 0.09411765, 0.81960784,\n",
              "        0.99607843, 0.99607843, 0.99607843, 0.67058824, 0.        ,\n",
              "        0.        , 0.        , 0.        , 0.        , 0.        ,\n",
              "        0.        , 0.        , 0.        ],\n",
              "       [0.        , 0.        , 0.        , 0.        , 0.        ,\n",
              "        0.        , 0.        , 0.        , 0.        , 0.        ,\n",
              "        0.        , 0.        , 0.35686275, 0.5372549 , 0.99215686,\n",
              "        0.99607843, 0.99607843, 0.99607843, 0.43921569, 0.        ,\n",
              "        0.        , 0.        , 0.        , 0.        , 0.        ,\n",
              "        0.        , 0.        , 0.        ],\n",
              "       [0.        , 0.        , 0.        , 0.        , 0.        ,\n",
              "        0.        , 0.        , 0.        , 0.        , 0.        ,\n",
              "        0.15686275, 0.83921569, 0.98039216, 0.99607843, 0.99607843,\n",
              "        0.99607843, 0.99607843, 0.99607843, 0.13333333, 0.        ,\n",
              "        0.        , 0.        , 0.        , 0.        , 0.        ,\n",
              "        0.        , 0.        , 0.        ],\n",
              "       [0.        , 0.        , 0.        , 0.        , 0.        ,\n",
              "        0.        , 0.        , 0.        , 0.        , 0.        ,\n",
              "        0.31764706, 0.96862745, 0.99607843, 0.99607843, 0.99607843,\n",
              "        0.99607843, 0.99607843, 0.99607843, 0.57254902, 0.        ,\n",
              "        0.        , 0.        , 0.        , 0.        , 0.        ,\n",
              "        0.        , 0.        , 0.        ],\n",
              "       [0.        , 0.        , 0.        , 0.        , 0.        ,\n",
              "        0.        , 0.        , 0.        , 0.        , 0.        ,\n",
              "        0.        , 0.43137255, 0.96470588, 0.99607843, 0.99607843,\n",
              "        0.99607843, 0.99607843, 0.99607843, 0.67058824, 0.        ,\n",
              "        0.        , 0.        , 0.        , 0.        , 0.        ,\n",
              "        0.        , 0.        , 0.        ],\n",
              "       [0.        , 0.        , 0.        , 0.        , 0.        ,\n",
              "        0.        , 0.        , 0.        , 0.        , 0.        ,\n",
              "        0.        , 0.        , 0.28627451, 0.34901961, 0.34901961,\n",
              "        0.36470588, 0.94117647, 0.99607843, 0.67058824, 0.        ,\n",
              "        0.        , 0.        , 0.        , 0.        , 0.        ,\n",
              "        0.        , 0.        , 0.        ],\n",
              "       [0.        , 0.        , 0.        , 0.        , 0.        ,\n",
              "        0.        , 0.        , 0.        , 0.        , 0.        ,\n",
              "        0.        , 0.        , 0.        , 0.        , 0.        ,\n",
              "        0.00392157, 0.50196078, 0.99607843, 0.85882353, 0.12156863,\n",
              "        0.        , 0.        , 0.        , 0.        , 0.        ,\n",
              "        0.        , 0.        , 0.        ],\n",
              "       [0.        , 0.        , 0.        , 0.        , 0.        ,\n",
              "        0.        , 0.        , 0.        , 0.        , 0.        ,\n",
              "        0.        , 0.        , 0.        , 0.        , 0.        ,\n",
              "        0.02745098, 0.99607843, 0.99607843, 0.83921569, 0.10980392,\n",
              "        0.        , 0.        , 0.        , 0.        , 0.        ,\n",
              "        0.        , 0.        , 0.        ],\n",
              "       [0.        , 0.        , 0.        , 0.        , 0.        ,\n",
              "        0.        , 0.        , 0.        , 0.        , 0.        ,\n",
              "        0.        , 0.        , 0.        , 0.        , 0.        ,\n",
              "        0.54117647, 0.99607843, 0.99607843, 0.45490196, 0.        ,\n",
              "        0.        , 0.        , 0.        , 0.        , 0.        ,\n",
              "        0.        , 0.        , 0.        ],\n",
              "       [0.        , 0.        , 0.        , 0.        , 0.        ,\n",
              "        0.        , 0.0745098 , 0.69411765, 0.35294118, 0.        ,\n",
              "        0.        , 0.        , 0.        , 0.        , 0.09803922,\n",
              "        0.94117647, 0.99607843, 0.99607843, 0.13333333, 0.        ,\n",
              "        0.        , 0.        , 0.        , 0.        , 0.        ,\n",
              "        0.        , 0.        , 0.        ],\n",
              "       [0.        , 0.        , 0.        , 0.        , 0.        ,\n",
              "        0.        , 0.64313725, 0.99607843, 0.84313725, 0.24705882,\n",
              "        0.14117647, 0.        , 0.2       , 0.34901961, 0.80784314,\n",
              "        0.99607843, 0.99607843, 0.54509804, 0.03137255, 0.        ,\n",
              "        0.        , 0.        , 0.        , 0.        , 0.        ,\n",
              "        0.        , 0.        , 0.        ],\n",
              "       [0.        , 0.        , 0.        , 0.        , 0.        ,\n",
              "        0.        , 0.22352941, 0.77254902, 0.99607843, 0.99607843,\n",
              "        0.87058824, 0.70588235, 0.94509804, 0.99607843, 0.99607843,\n",
              "        0.99215686, 0.83529412, 0.04313725, 0.        , 0.        ,\n",
              "        0.        , 0.        , 0.        , 0.        , 0.        ,\n",
              "        0.        , 0.        , 0.        ],\n",
              "       [0.        , 0.        , 0.        , 0.        , 0.        ,\n",
              "        0.        , 0.        , 0.54901961, 0.41176471, 0.99607843,\n",
              "        0.99607843, 0.99607843, 0.99607843, 0.99607843, 0.99607843,\n",
              "        0.9254902 , 0.        , 0.        , 0.        , 0.        ,\n",
              "        0.        , 0.        , 0.        , 0.        , 0.        ,\n",
              "        0.        , 0.        , 0.        ],\n",
              "       [0.        , 0.        , 0.        , 0.        , 0.        ,\n",
              "        0.        , 0.        , 0.        , 0.02745098, 0.45882353,\n",
              "        0.45882353, 0.64705882, 0.99607843, 0.99607843, 0.9372549 ,\n",
              "        0.19607843, 0.        , 0.        , 0.        , 0.        ,\n",
              "        0.        , 0.        , 0.        , 0.        , 0.        ,\n",
              "        0.        , 0.        , 0.        ],\n",
              "       [0.        , 0.        , 0.        , 0.        , 0.        ,\n",
              "        0.        , 0.        , 0.        , 0.        , 0.        ,\n",
              "        0.        , 0.        , 0.        , 0.        , 0.        ,\n",
              "        0.        , 0.        , 0.        , 0.        , 0.        ,\n",
              "        0.        , 0.        , 0.        , 0.        , 0.        ,\n",
              "        0.        , 0.        , 0.        ],\n",
              "       [0.        , 0.        , 0.        , 0.        , 0.        ,\n",
              "        0.        , 0.        , 0.        , 0.        , 0.        ,\n",
              "        0.        , 0.        , 0.        , 0.        , 0.        ,\n",
              "        0.        , 0.        , 0.        , 0.        , 0.        ,\n",
              "        0.        , 0.        , 0.        , 0.        , 0.        ,\n",
              "        0.        , 0.        , 0.        ],\n",
              "       [0.        , 0.        , 0.        , 0.        , 0.        ,\n",
              "        0.        , 0.        , 0.        , 0.        , 0.        ,\n",
              "        0.        , 0.        , 0.        , 0.        , 0.        ,\n",
              "        0.        , 0.        , 0.        , 0.        , 0.        ,\n",
              "        0.        , 0.        , 0.        , 0.        , 0.        ,\n",
              "        0.        , 0.        , 0.        ],\n",
              "       [0.        , 0.        , 0.        , 0.        , 0.        ,\n",
              "        0.        , 0.        , 0.        , 0.        , 0.        ,\n",
              "        0.        , 0.        , 0.        , 0.        , 0.        ,\n",
              "        0.        , 0.        , 0.        , 0.        , 0.        ,\n",
              "        0.        , 0.        , 0.        , 0.        , 0.        ,\n",
              "        0.        , 0.        , 0.        ]])"
            ]
          },
          "metadata": {
            "tags": []
          },
          "execution_count": 28
        }
      ]
    },
    {
      "cell_type": "markdown",
      "metadata": {
        "id": "nRJtRwQQD2i2"
      },
      "source": [
        "## Flattening the Datasets\n",
        "\n",
        "**Transformfing 2D to 1d**\n",
        "\n",
        "28 * 28 = 784"
      ]
    },
    {
      "cell_type": "code",
      "metadata": {
        "colab": {
          "base_uri": "https://localhost:8080/"
        },
        "id": "2bPXwKa0EB2M",
        "outputId": "0a2a1028-902f-4da6-dc65-d2c6c622780a"
      },
      "source": [
        "X_train.shape"
      ],
      "execution_count": 21,
      "outputs": [
        {
          "output_type": "execute_result",
          "data": {
            "text/plain": [
              "(60000, 28, 28)"
            ]
          },
          "metadata": {
            "tags": []
          },
          "execution_count": 21
        }
      ]
    },
    {
      "cell_type": "code",
      "metadata": {
        "id": "gkPkxto9EXV8"
      },
      "source": [
        "X_train_flattened= X_train.reshape(len(X_train),28*28)\n",
        "X_test_flattened= X_test.reshape(len(X_test),28*28)"
      ],
      "execution_count": 22,
      "outputs": []
    },
    {
      "cell_type": "code",
      "metadata": {
        "colab": {
          "base_uri": "https://localhost:8080/"
        },
        "id": "UIbHHbOvE2xC",
        "outputId": "78edf204-dff3-4c93-bc4b-32e0f3f74b63"
      },
      "source": [
        "X_train_flattened.shape"
      ],
      "execution_count": 23,
      "outputs": [
        {
          "output_type": "execute_result",
          "data": {
            "text/plain": [
              "(60000, 784)"
            ]
          },
          "metadata": {
            "tags": []
          },
          "execution_count": 23
        }
      ]
    },
    {
      "cell_type": "code",
      "metadata": {
        "colab": {
          "base_uri": "https://localhost:8080/"
        },
        "id": "emuKPmyQFCQL",
        "outputId": "8f79b52a-b9c2-4f0e-a00c-21ba9ed48a50"
      },
      "source": [
        "X_test_flattened.shape"
      ],
      "execution_count": 24,
      "outputs": [
        {
          "output_type": "execute_result",
          "data": {
            "text/plain": [
              "(10000, 784)"
            ]
          },
          "metadata": {
            "tags": []
          },
          "execution_count": 24
        }
      ]
    },
    {
      "cell_type": "markdown",
      "metadata": {
        "id": "ZQlc8tUmrkFs"
      },
      "source": [
        "## Model Creation and Evaluation"
      ]
    },
    {
      "cell_type": "code",
      "metadata": {
        "id": "mfcKvAoGoBAw"
      },
      "source": [
        "model = keras.Sequential([\n",
        "                          keras.layers.Dense(10,input_shape=(784,),activation='sigmoid')\n",
        "])"
      ],
      "execution_count": 25,
      "outputs": []
    },
    {
      "cell_type": "code",
      "metadata": {
        "id": "2H3OUxhQpFiX"
      },
      "source": [
        "model.compile(\n",
        "    optimizer='adam',\n",
        "    loss='sparse_categorical_crossentropy',\n",
        "    metrics=['accuracy']\n",
        ")"
      ],
      "execution_count": 26,
      "outputs": []
    },
    {
      "cell_type": "code",
      "metadata": {
        "colab": {
          "base_uri": "https://localhost:8080/"
        },
        "id": "ia77zlCwp40_",
        "outputId": "69e74b76-dc68-41c5-9c72-f7f37dbd4516"
      },
      "source": [
        "model.fit(X_train_flattened,y_train,epochs=5)"
      ],
      "execution_count": 27,
      "outputs": [
        {
          "output_type": "stream",
          "text": [
            "Epoch 1/5\n",
            "1875/1875 [==============================] - 3s 1ms/step - loss: 0.4754 - accuracy: 0.8757\n",
            "Epoch 2/5\n",
            "1875/1875 [==============================] - 2s 1ms/step - loss: 0.3037 - accuracy: 0.9150\n",
            "Epoch 3/5\n",
            "1875/1875 [==============================] - 2s 1ms/step - loss: 0.2834 - accuracy: 0.9210\n",
            "Epoch 4/5\n",
            "1875/1875 [==============================] - 2s 1ms/step - loss: 0.2731 - accuracy: 0.9235\n",
            "Epoch 5/5\n",
            "1875/1875 [==============================] - 2s 1ms/step - loss: 0.2666 - accuracy: 0.9256\n"
          ],
          "name": "stdout"
        },
        {
          "output_type": "execute_result",
          "data": {
            "text/plain": [
              "<tensorflow.python.keras.callbacks.History at 0x7f98cdcb6750>"
            ]
          },
          "metadata": {
            "tags": []
          },
          "execution_count": 27
        }
      ]
    },
    {
      "cell_type": "code",
      "metadata": {
        "colab": {
          "base_uri": "https://localhost:8080/"
        },
        "id": "W2onnRBzruKk",
        "outputId": "7b98f633-e756-4df4-87be-43fe3a9fc08c"
      },
      "source": [
        "model.evaluate(X_test_flattened,y_test)"
      ],
      "execution_count": 29,
      "outputs": [
        {
          "output_type": "stream",
          "text": [
            "313/313 [==============================] - 1s 1ms/step - loss: 0.2701 - accuracy: 0.9249\n"
          ],
          "name": "stdout"
        },
        {
          "output_type": "execute_result",
          "data": {
            "text/plain": [
              "[0.2701135575771332, 0.9248999953269958]"
            ]
          },
          "metadata": {
            "tags": []
          },
          "execution_count": 29
        }
      ]
    },
    {
      "cell_type": "markdown",
      "metadata": {
        "id": "Ytnlo3V6tQq5"
      },
      "source": [
        "## Model Prediction"
      ]
    },
    {
      "cell_type": "code",
      "metadata": {
        "colab": {
          "base_uri": "https://localhost:8080/",
          "height": 292
        },
        "id": "kKtJDnldsySW",
        "outputId": "f35cb4c7-931b-45a7-bcaf-2d0a7bc71258"
      },
      "source": [
        "plt.matshow(X_test[1000])"
      ],
      "execution_count": 30,
      "outputs": [
        {
          "output_type": "execute_result",
          "data": {
            "text/plain": [
              "<matplotlib.image.AxesImage at 0x7f98ca053650>"
            ]
          },
          "metadata": {
            "tags": []
          },
          "execution_count": 30
        },
        {
          "output_type": "display_data",
          "data": {
            "image/png": "[encoded data removed]",
            "text/plain": [
              "<Figure size 288x288 with 1 Axes>"
            ]
          },
          "metadata": {
            "tags": [],
            "needs_background": "light"
          }
        }
      ]
    },
    {
      "cell_type": "code",
      "metadata": {
        "colab": {
          "base_uri": "https://localhost:8080/"
        },
        "id": "pOGCxk9usyZP",
        "outputId": "ee4de43b-58b3-40ca-ae05-39d82cedd445"
      },
      "source": [
        "y_predicted = model.predict(X_test_flattened)\n",
        "y_predicted[1000]"
      ],
      "execution_count": 31,
      "outputs": [
        {
          "output_type": "execute_result",
          "data": {
            "text/plain": [
              "array([2.2167767e-05, 5.3311586e-03, 6.2632561e-04, 8.9090824e-01,\n",
              "       1.4662072e-01, 7.7067614e-03, 4.7094086e-06, 9.3101150e-01,\n",
              "       5.0135434e-02, 9.7566617e-01], dtype=float32)"
            ]
          },
          "metadata": {
            "tags": []
          },
          "execution_count": 31
        }
      ]
    },
    {
      "cell_type": "code",
      "metadata": {
        "colab": {
          "base_uri": "https://localhost:8080/"
        },
        "id": "z4h5lZ7BtFx-",
        "outputId": "9c680070-af26-460b-cd0f-113c64e18606"
      },
      "source": [
        "np.argmax(y_predicted[1000])"
      ],
      "execution_count": 32,
      "outputs": [
        {
          "output_type": "execute_result",
          "data": {
            "text/plain": [
              "9"
            ]
          },
          "metadata": {
            "tags": []
          },
          "execution_count": 32
        }
      ]
    }
  ]
}